{
 "cells": [
  {
   "cell_type": "markdown",
   "metadata": {},
   "source": [
    "# Monte-Carlo estimation of the minimum length optical path\n",
    "\n",
    "Based on a paper in the American Journal of Physics by Javier Hasbun [ref] this python program uses a Monte-Carlo strategy to find the trajectory of minimum optical path lenght in a medium with a given index of refraction (which is presumed to be a function of $x$.\n",
    "\n",
    "The optical path length from $S$ to $P$ is defined here as:\n",
    "\n",
    "$$ OPL = \\int_S^P n(s) ds $$\n",
    "\n",
    "where $n(s)$ is the index of refraction at a position $s$ and $ds$ is a differential path length along a trajectory through space.\n",
    "\n",
    "The trajectory will be computed using two arrays `x` and `y`. \n",
    "\n",
    "First we'll import `pylab` which shares some functinality with `MATLAB` (used in the original paper).\n"
   ]
  },
  {
   "cell_type": "code",
   "execution_count": 1,
   "metadata": {},
   "outputs": [
    {
     "name": "stdout",
     "output_type": "stream",
     "text": [
      "Populating the interactive namespace from numpy and matplotlib\n"
     ]
    }
   ],
   "source": [
    "%pylab inline"
   ]
  },
  {
   "cell_type": "markdown",
   "metadata": {},
   "source": [
    "# Initialization\n",
    "\n",
    "This next cell initializes the arrays and sets up the index of refraction on the left and right of the center."
   ]
  },
  {
   "cell_type": "code",
   "execution_count": 2,
   "metadata": {},
   "outputs": [],
   "source": [
    "N=15\n",
    "\n",
    "x0=0\n",
    "xf=10\n",
    "y0=0\n",
    "yf=10\n",
    "\n",
    "x=linspace(x0,xf,N)\n",
    "y=zeros(N)\n",
    "y[0]=y0                  # initialize y array with endpoints\n",
    "y[-1]=yf\n",
    "dx=x[1]-x[0]                       # xs don't change, so this difference is fixed.\n"
   ]
  },
  {
   "cell_type": "markdown",
   "metadata": {},
   "source": [
    "# The Monte-Carlo \"Step\" function\n",
    "\n",
    "The function `niterate` below takes one \"step\" in the MC algorithm. As a measure of the progress of the algorithm take the sum of the absolute values of the differences in neighboring y coordinates."
   ]
  },
  {
   "cell_type": "code",
   "execution_count": 3,
   "metadata": {},
   "outputs": [],
   "source": [
    "def niterate(x,y,nf,delta=0.5):\n",
    "    \"\"\"\n",
    "    A single \"step\" in the MC algorithm.\n",
    "    \n",
    "    x is the array of xs\n",
    "    y is the array of current ys\n",
    "    nf is a function that returns the index as a function of y\n",
    "    delta = is the size of the y change\n",
    "    \n",
    "    choose an index to change\n",
    "    compute the original optical path between the neighboring points: opi\n",
    "    change the y value of the chosen index\n",
    "    compute the \"final\" optical path length after the change: opf\n",
    "    if opf<opi, accept the change, otherwise, ignore\n",
    "    \n",
    "    \"\"\"\n",
    "    changed = False # inform the called if a change occured\n",
    "    \n",
    "    ix=choice(range(1,N-1)) # pick an interior point\n",
    "    \n",
    "    ya,yc,yb=y[ix-1:ix+2] # get neighboring y values\n",
    "    \n",
    "    opi=sqrt((ya-yc)**2+dx**2)*nf(x[ix-1]) + sqrt((yc-yb)**2+dx**2)*nf(x[ix])  # compute original OPL\n",
    "    \n",
    "    yc += normal()*delta  # bump the middle y value\n",
    "    \n",
    "    opf=sqrt((ya-yc)**2+dx**2)*nf(x[ix-1]) + sqrt((yc-yb)**2+dx**2)*nf(x[ix])  # compute new OPL\n",
    "    \n",
    "    if opf<opi:\n",
    "        y[ix] = yc  # if the OPL is reduced, take it.\n",
    "        changed = True\n",
    "        \n",
    "    return changed, abs(y[1:]-y[:-1]).sum()  # return the sum of absolute differences of neighboring ys"
   ]
  },
  {
   "cell_type": "markdown",
   "metadata": {},
   "source": [
    "# Example index function\n",
    "\n",
    "Below is an example index function for the case of a simple air/glass interface\n"
   ]
  },
  {
   "cell_type": "code",
   "execution_count": 4,
   "metadata": {},
   "outputs": [
    {
     "data": {
      "image/png": "[encoded data removed]",
      "text/plain": [
       "<matplotlib.figure.Figure at 0x10fdc8b70>"
      ]
     },
     "metadata": {},
     "output_type": "display_data"
    }
   ],
   "source": [
    "seed(0) # reset random numbers for repeatability\n",
    "\n",
    "y[1:-1] = y0 + (yf-y0)*rand(N-2)   # interior points are randomized\n",
    "\n",
    "na=1.0\n",
    "nb=1.5\n",
    "\n",
    "xb=(x0+xf)/2.0           # \"Boundary\" for the example index\n",
    "\n",
    "def nf_step(x):\n",
    "    result = nb\n",
    "    if x<xb:\n",
    "        result = na\n",
    "    return result\n",
    "\n",
    "def showProgress():\n",
    "    #\n",
    "    # make a plot to show where we are\n",
    "    #\n",
    "    xlabel(\"x coordinate\")\n",
    "    ylabel(\"y coordinate\")\n",
    "    plot(x,y)\n",
    "    plot([xb,xb],[y0,yf],'r-')\n",
    "    grid()\n",
    "\n",
    "title(\"Trajectory of light ray before MC\")\n",
    "showProgress()"
   ]
  },
  {
   "cell_type": "code",
   "execution_count": 5,
   "metadata": {},
   "outputs": [
    {
     "data": {
      "image/png": "[encoded data removed]",
      "text/plain": [
       "<matplotlib.figure.Figure at 0x10fe3db38>"
      ]
     },
     "metadata": {},
     "output_type": "display_data"
    }
   ],
   "source": [
    "delta = 1\n",
    "\n",
    "changed, size = niterate(x,y,nf_step,delta)\n",
    "oldsize=2*size\n",
    "count = 0\n",
    "dcount=0\n",
    "iterlimit = 100000\n",
    "\n",
    "while (dcount < 0.2*iterlimit) and (count < iterlimit):\n",
    "    changed, newsize = niterate(x,y,nf_step,delta)\n",
    "    if changed:\n",
    "        delta = 0.4*newsize/N\n",
    "        oldsize=size\n",
    "        size=newsize\n",
    "        if (oldsize-size) < 1e-5:\n",
    "            dcount += 1\n",
    "    count += 1\n",
    "\n",
    "title(\"Trajectory of light ray after MC\")\n",
    "showProgress()"
   ]
  },
  {
   "cell_type": "code",
   "execution_count": 6,
   "metadata": {},
   "outputs": [
    {
     "name": "stdout",
     "output_type": "stream",
     "text": [
      "incident: 53.5837990675\n",
      "refracted: 32.7991752274\n",
      "theoretical: 32.4446073688\n",
      "%error 1.09284065162\n"
     ]
    }
   ],
   "source": [
    "ix = where(x<=xb)[0].max()  # where is the interface?\n",
    "yi = y[ix]\n",
    "thetai = arctan(yi/xb)\n",
    "thetar = arctan((yf-yi)/(xf-xb))\n",
    "thetar_th = arcsin(na*sin(thetai)/nb)\n",
    "pct_err = abs(100*(thetar_th-thetar)/thetar_th)\n",
    "print(\"incident:\", thetai*180/pi)\n",
    "print(\"refracted:\", thetar*180/pi)\n",
    "print(\"theoretical:\",thetar_th*180/pi)\n",
    "print(\"%error\",pct_err)"
   ]
  },
  {
   "cell_type": "code",
   "execution_count": null,
   "metadata": {},
   "outputs": [],
   "source": []
  }
 ],
 "metadata": {
  "kernelspec": {
   "display_name": "Python 3",
   "language": "python",
   "name": "python3"
  },
  "language_info": {
   "codemirror_mode": {
    "name": "ipython",
    "version": 3
   },
   "file_extension": ".py",
   "mimetype": "text/x-python",
   "name": "python",
   "nbconvert_exporter": "python",
   "pygments_lexer": "ipython3",
   "version": "3.6.3"
  }
 },
 "nbformat": 4,
 "nbformat_minor": 2
}
